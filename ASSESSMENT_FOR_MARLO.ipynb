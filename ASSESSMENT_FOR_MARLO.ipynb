{
  "nbformat": 4,
  "nbformat_minor": 0,
  "metadata": {
    "colab": {
      "provenance": [],
      "toc_visible": true
    },
    "kernelspec": {
      "name": "python3",
      "display_name": "Python 3"
    },
    "language_info": {
      "name": "python"
    }
  },
  "cells": [
    {
      "cell_type": "code",
      "source": [
        "!pip install flask\n"
      ],
      "metadata": {
        "id": "fkQD94CgFeXx"
      },
      "execution_count": null,
      "outputs": []
    },
    {
      "cell_type": "markdown",
      "source": [
        "1.REGISTRATION API"
      ],
      "metadata": {
        "id": "h8QjfxeYMpM8"
      }
    },
    {
      "cell_type": "code",
      "source": [
        "from flask import Flask, request, jsonify\n",
        "\n",
        "app = Flask(__name__)\n",
        "\n",
        "users = []\n",
        "\n",
        "@app.route('/register', methods=['POST'])\n",
        "def register():\n",
        "    data = request.get_json()\n",
        "    if not data:\n",
        "        return jsonify({'message': 'No data provided'}), 400\n",
        "    \n",
        "    # Get required fields\n",
        "    first_name = data.get('first_name')\n",
        "    last_name = data.get('last_name')\n",
        "    email = data.get('email')\n",
        "    password = data.get('password')\n",
        "    \n",
        "    # Check if required fields are present\n",
        "    if not all([first_name, last_name, email, password]):\n",
        "        return jsonify({'message': 'Missing required fields'}), 400\n",
        "    \n",
        "    # Check if user already exists\n",
        "    if any(user['email'] == email for user in users):\n",
        "        return jsonify({'message': 'User already exists'}), 400\n",
        "    \n",
        "    # Create new user\n",
        "    user = {\n",
        "        'first_name': first_name,\n",
        "        'last_name': last_name,\n",
        "        'email': email,\n",
        "        'password': password\n",
        "    }\n",
        "    users.append(user)\n",
        "    \n",
        "    return jsonify({'message': 'User registered successfully'}), 201\n"
      ],
      "metadata": {
        "id": "FtXpK6jHL1Lt"
      },
      "execution_count": null,
      "outputs": []
    },
    {
      "cell_type": "markdown",
      "source": [
        "2.LOGIN API"
      ],
      "metadata": {
        "id": "3Vu88sqpMuXz"
      }
    },
    {
      "cell_type": "code",
      "source": [
        "@app.route('/login', methods=['POST'])\n",
        "def login():\n",
        "    data = request.get_json()\n",
        "    if not data:\n",
        "        return jsonify({'message': 'No data provided'}), 400\n",
        "    \n",
        "    # Get required fields\n",
        "    email = data.get('email')\n",
        "    password = data.get('password')\n",
        "    \n",
        "    # Check if required fields are present\n",
        "    if not all([email, password]):\n",
        "        return jsonify({'message': 'Missing required fields'}), 400\n",
        "    \n",
        "    # Check if user exists and password is correct\n",
        "    for user in users:\n",
        "        if user['email'] == email and user['password'] == password:\n",
        "            return jsonify({'message': 'Login successful'}), 200\n",
        "    \n",
        "    # If user not found or password is incorrect\n",
        "    return jsonify({'message': 'Invalid email or password'}), 401\n"
      ],
      "metadata": {
        "id": "ow7jZ1pEL1N6"
      },
      "execution_count": null,
      "outputs": []
    }
  ]
}